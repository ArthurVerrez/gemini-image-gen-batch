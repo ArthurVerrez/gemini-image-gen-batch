{
 "cells": [
  {
   "cell_type": "code",
   "execution_count": 3,
   "metadata": {},
   "outputs": [
    {
     "ename": "ModuleNotFoundError",
     "evalue": "No module named 'google'",
     "output_type": "error",
     "traceback": [
      "\u001b[31m---------------------------------------------------------------------------\u001b[39m",
      "\u001b[31mModuleNotFoundError\u001b[39m                       Traceback (most recent call last)",
      "\u001b[36mCell\u001b[39m\u001b[36m \u001b[39m\u001b[32mIn[3]\u001b[39m\u001b[32m, line 4\u001b[39m\n\u001b[32m      2\u001b[39m \u001b[38;5;28;01mimport\u001b[39;00m\u001b[38;5;250m \u001b[39m\u001b[34;01mos\u001b[39;00m\n\u001b[32m      3\u001b[39m \u001b[38;5;28;01mimport\u001b[39;00m\u001b[38;5;250m \u001b[39m\u001b[34;01mmimetypes\u001b[39;00m\n\u001b[32m----> \u001b[39m\u001b[32m4\u001b[39m \u001b[38;5;28;01mfrom\u001b[39;00m\u001b[38;5;250m \u001b[39m\u001b[34;01mgoogle\u001b[39;00m\u001b[38;5;250m \u001b[39m\u001b[38;5;28;01mimport\u001b[39;00m genai\n\u001b[32m      5\u001b[39m \u001b[38;5;28;01mfrom\u001b[39;00m\u001b[38;5;250m \u001b[39m\u001b[34;01mgoogle\u001b[39;00m\u001b[34;01m.\u001b[39;00m\u001b[34;01mgenai\u001b[39;00m\u001b[38;5;250m \u001b[39m\u001b[38;5;28;01mimport\u001b[39;00m types\n\u001b[32m      8\u001b[39m \u001b[38;5;28;01mdef\u001b[39;00m\u001b[38;5;250m \u001b[39m\u001b[34msave_binary_file\u001b[39m(file_name, data):\n",
      "\u001b[31mModuleNotFoundError\u001b[39m: No module named 'google'"
     ]
    }
   ],
   "source": [
    "import base64\n",
    "import os\n",
    "import mimetypes\n",
    "from google import genai\n",
    "from google.genai import types\n",
    "\n",
    "\n",
    "def save_binary_file(file_name, data):\n",
    "    f = open(file_name, \"wb\")\n",
    "    f.write(data)\n",
    "    f.close()"
   ]
  },
  {
   "cell_type": "code",
   "execution_count": 4,
   "metadata": {},
   "outputs": [],
   "source": [
    "\n",
    "def generate():\n",
    "    client = genai.Client(\n",
    "        api_key=os.environ.get(\"GEMINI_API_KEY\"),\n",
    "    )\n",
    "\n",
    "    files = [\n",
    "        # Make the file available in local system working directory\n",
    "        client.files.upload(file=\"inputs/21_no_sheeps_clothing.png\"),\n",
    "        # Make the file available in local system working directory\n",
    "        client.files.upload(file=\"inputs/9_neon_foxfire.png\"),\n",
    "    ]\n",
    "    model = \"gemini-2.0-flash-exp-image-generation\"\n",
    "    contents = [\n",
    "        types.Content(\n",
    "            role=\"user\",\n",
    "            parts=[\n",
    "                types.Part.from_uri(\n",
    "                    file_uri=files[0].uri,\n",
    "                    mime_type=files[0].mime_type,\n",
    "                ),\n",
    "                types.Part.from_uri(\n",
    "                    file_uri=files[1].uri,\n",
    "                    mime_type=files[1].mime_type,\n",
    "                ),\n",
    "                types.Part.from_text(text=\"\"\"Add this mechanical arm to the character, make sure it's slick and cool\"\"\"),\n",
    "            ],\n",
    "        )\n",
    "    ]\n",
    "    generate_content_config = types.GenerateContentConfig(\n",
    "        temperature=1,\n",
    "        top_p=0.95,\n",
    "        top_k=40,\n",
    "        max_output_tokens=8192,\n",
    "        response_modalities=[\n",
    "            \"image\",\n",
    "            \"text\",\n",
    "        ],\n",
    "        safety_settings=[\n",
    "            types.SafetySetting(\n",
    "                category=\"HARM_CATEGORY_CIVIC_INTEGRITY\",\n",
    "                threshold=\"OFF\",  # Off\n",
    "            ),\n",
    "        ],\n",
    "        response_mime_type=\"text/plain\",\n",
    "    )\n",
    "\n",
    "    for chunk in client.models.generate_content_stream(\n",
    "        model=model,\n",
    "        contents=contents,\n",
    "        config=generate_content_config,\n",
    "    ):\n",
    "        if not chunk.candidates or not chunk.candidates[0].content or not chunk.candidates[0].content.parts:\n",
    "            continue\n",
    "        if chunk.candidates[0].content.parts[0].inline_data:\n",
    "            file_name = \"output\"\n",
    "            inline_data = chunk.candidates[0].content.parts[0].inline_data\n",
    "            file_extension = mimetypes.guess_extension(inline_data.mime_type)\n",
    "            save_binary_file(\n",
    "                f\"{file_name}{file_extension}\", inline_data.data\n",
    "            )\n",
    "            print(\n",
    "                \"File of mime type\"\n",
    "                f\" {inline_data.mime_type} saved\"\n",
    "                f\"to: {file_name}\"\n",
    "            )\n",
    "        else:\n",
    "            print(chunk.text)\n"
   ]
  },
  {
   "cell_type": "code",
   "execution_count": 5,
   "metadata": {},
   "outputs": [
    {
     "ename": "NameError",
     "evalue": "name 'genai' is not defined",
     "output_type": "error",
     "traceback": [
      "\u001b[31m---------------------------------------------------------------------------\u001b[39m",
      "\u001b[31mNameError\u001b[39m                                 Traceback (most recent call last)",
      "\u001b[36mCell\u001b[39m\u001b[36m \u001b[39m\u001b[32mIn[5]\u001b[39m\u001b[32m, line 1\u001b[39m\n\u001b[32m----> \u001b[39m\u001b[32m1\u001b[39m \u001b[43mgenerate\u001b[49m\u001b[43m(\u001b[49m\u001b[43m)\u001b[49m\n",
      "\u001b[36mCell\u001b[39m\u001b[36m \u001b[39m\u001b[32mIn[4]\u001b[39m\u001b[32m, line 2\u001b[39m, in \u001b[36mgenerate\u001b[39m\u001b[34m()\u001b[39m\n\u001b[32m      1\u001b[39m \u001b[38;5;28;01mdef\u001b[39;00m\u001b[38;5;250m \u001b[39m\u001b[34mgenerate\u001b[39m():\n\u001b[32m----> \u001b[39m\u001b[32m2\u001b[39m     client = \u001b[43mgenai\u001b[49m.Client(\n\u001b[32m      3\u001b[39m         api_key=os.environ.get(\u001b[33m\"\u001b[39m\u001b[33mGEMINI_API_KEY\u001b[39m\u001b[33m\"\u001b[39m),\n\u001b[32m      4\u001b[39m     )\n\u001b[32m      6\u001b[39m     files = [\n\u001b[32m      7\u001b[39m         \u001b[38;5;66;03m# Make the file available in local system working directory\u001b[39;00m\n\u001b[32m      8\u001b[39m         client.files.upload(file=\u001b[33m\"\u001b[39m\u001b[33minputs/21_no_sheeps_clothing.png\u001b[39m\u001b[33m\"\u001b[39m),\n\u001b[32m      9\u001b[39m         \u001b[38;5;66;03m# Make the file available in local system working directory\u001b[39;00m\n\u001b[32m     10\u001b[39m         client.files.upload(file=\u001b[33m\"\u001b[39m\u001b[33minputs/9_neon_foxfire.png\u001b[39m\u001b[33m\"\u001b[39m),\n\u001b[32m     11\u001b[39m     ]\n\u001b[32m     12\u001b[39m     model = \u001b[33m\"\u001b[39m\u001b[33mgemini-2.0-flash-exp-image-generation\u001b[39m\u001b[33m\"\u001b[39m\n",
      "\u001b[31mNameError\u001b[39m: name 'genai' is not defined"
     ]
    }
   ],
   "source": [
    "generate()"
   ]
  },
  {
   "cell_type": "code",
   "execution_count": null,
   "metadata": {},
   "outputs": [],
   "source": []
  }
 ],
 "metadata": {
  "kernelspec": {
   "display_name": "env",
   "language": "python",
   "name": "python3"
  },
  "language_info": {
   "codemirror_mode": {
    "name": "ipython",
    "version": 3
   },
   "file_extension": ".py",
   "mimetype": "text/x-python",
   "name": "python",
   "nbconvert_exporter": "python",
   "pygments_lexer": "ipython3",
   "version": "3.12.1"
  }
 },
 "nbformat": 4,
 "nbformat_minor": 2
}
